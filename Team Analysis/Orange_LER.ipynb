{
 "cells": [
  {
   "cell_type": "markdown",
   "metadata": {},
   "source": [
    "## Gamma($\\alpha$, $\\theta$) \n",
    "> $f(x) = \\frac{x^{\\alpha −1}e^{−x/ \\theta}}{\\theta^{\\alpha}\\Gamma ( \\alpha ) }$                       \n",
    "> $\\mathbb{E}(X)=\\alpha \\theta$\n",
    "\n",
    "## Pareto($\\alpha$, $\\theta$) \n",
    ">$f(x) = \\frac{\\alpha \\theta^{\\alpha}}{(x+\\theta)^{\\alpha+1}}$                        \n",
    ">$ \\mathbb{E}(X)=\\frac{\\theta}{\\alpha-1}$                       \n",
    "\n",
    "## Lognormal($\\mu$, $\\sigma$)\n",
    ">$f(x)=\\frac{1}{x\\sigma \\sqrt{2\\pi}}e^{-\\frac{1}{2}(\\frac{\\ln x - \\mu}{\\sigma})^2}$                    \n",
    ">$\\mathbb{E}(X)=e^{\\mu+\\sigma^2/2}$                       "
   ]
  },
  {
   "cell_type": "code",
   "execution_count": 6,
   "metadata": {},
   "outputs": [],
   "source": [
    "\n",
    "import matplotlib.pyplot as plt\n",
    "from scipy.stats import gamma, lognorm, pareto, norm\n",
    "from scipy.special import gammainc\n",
    "import pandas as pd\n",
    "import numpy as np\n",
    "\n",
    "import random"
   ]
  },
  {
   "cell_type": "code",
   "execution_count": 25,
   "metadata": {},
   "outputs": [],
   "source": [
    "# Range of deductibles\n",
    "deductibles = np.arange(0, 35.1, 0.1)\n",
    "ler_df={}\n",
    "def LER( pre, post):\n",
    "    return post / pre\n",
    "\n",
    "# Gamma(2,5)\n",
    "shape_param = 2  # slpha\n",
    "scale_param = 5  # theta\n",
    "def ExpPay_deduct_gamma(deductible, shape=shape_param, scale=scale_param):\n",
    "    return (gamma.cdf(deductible, a=shape, scale=scale)) * (gamma.mean(a=shape, scale=scale) )\n",
    "ler_df['Gamma(2,5)'] = [LER( gamma.mean(shape_param,scale=scale_param), ExpPay_deduct_gamma(d)) for d in deductibles]\n",
    "\n",
    "# LogNormal(0,1)\n",
    "shape_param = 1  # sigma\n",
    "scale_param = np.exp(0)  # exp(mu)\n",
    "def ExpPay_deduct_lognorm(deductible, shape=shape_param, scale=scale_param):\n",
    "    return (lognorm.cdf(deductible, shape, scale=scale)) * (lognorm.mean(shape, scale=scale) )\n",
    "ler_df['lognorm(0,1)'] = [LER( lognorm.mean(shape_param,scale=scale_param), ExpPay_deduct_lognorm(d)) for d in deductibles]\n",
    "\n",
    "# Pareto(2,1)\n",
    "shape_param = 2  # alpha\n",
    "scale_param = 1 # theta\n",
    "def ExpPay_deduct_pareto(deductible, shape=shape_param, scale=scale_param):\n",
    "    return (pareto.cdf(deductible, shape, loc=-scale)) * (pareto.mean(shape, loc=-scale) )\n",
    "ler_df['pareto(2,1)'] = [LER( pareto.mean(shape_param,loc=-scale_param), ExpPay_deduct_pareto(d)) for d in deductibles]\n",
    "\n",
    "ler_df=pd.DataFrame(ler_df)"
   ]
  },
  {
   "cell_type": "code",
   "execution_count": 26,
   "metadata": {},
   "outputs": [
    {
     "data": {
      "text/html": [
       "<div>\n",
       "<style scoped>\n",
       "    .dataframe tbody tr th:only-of-type {\n",
       "        vertical-align: middle;\n",
       "    }\n",
       "\n",
       "    .dataframe tbody tr th {\n",
       "        vertical-align: top;\n",
       "    }\n",
       "\n",
       "    .dataframe thead th {\n",
       "        text-align: right;\n",
       "    }\n",
       "</style>\n",
       "<table border=\"1\" class=\"dataframe\">\n",
       "  <thead>\n",
       "    <tr style=\"text-align: right;\">\n",
       "      <th></th>\n",
       "      <th>Gamma(2,5)</th>\n",
       "      <th>lognorm(0,1)</th>\n",
       "      <th>pareto(2,1)</th>\n",
       "    </tr>\n",
       "  </thead>\n",
       "  <tbody>\n",
       "    <tr>\n",
       "      <th>0</th>\n",
       "      <td>0.000000</td>\n",
       "      <td>0.000000</td>\n",
       "      <td>0.000000</td>\n",
       "    </tr>\n",
       "    <tr>\n",
       "      <th>1</th>\n",
       "      <td>0.000197</td>\n",
       "      <td>0.010651</td>\n",
       "      <td>0.173554</td>\n",
       "    </tr>\n",
       "    <tr>\n",
       "      <th>2</th>\n",
       "      <td>0.000779</td>\n",
       "      <td>0.053760</td>\n",
       "      <td>0.305556</td>\n",
       "    </tr>\n",
       "    <tr>\n",
       "      <th>3</th>\n",
       "      <td>0.001730</td>\n",
       "      <td>0.114300</td>\n",
       "      <td>0.408284</td>\n",
       "    </tr>\n",
       "    <tr>\n",
       "      <th>4</th>\n",
       "      <td>0.003034</td>\n",
       "      <td>0.179757</td>\n",
       "      <td>0.489796</td>\n",
       "    </tr>\n",
       "    <tr>\n",
       "      <th>...</th>\n",
       "      <td>...</td>\n",
       "      <td>...</td>\n",
       "      <td>...</td>\n",
       "    </tr>\n",
       "    <tr>\n",
       "      <th>346</th>\n",
       "      <td>0.992176</td>\n",
       "      <td>0.999803</td>\n",
       "      <td>0.999211</td>\n",
       "    </tr>\n",
       "    <tr>\n",
       "      <th>347</th>\n",
       "      <td>0.992312</td>\n",
       "      <td>0.999805</td>\n",
       "      <td>0.999215</td>\n",
       "    </tr>\n",
       "    <tr>\n",
       "      <th>348</th>\n",
       "      <td>0.992445</td>\n",
       "      <td>0.999807</td>\n",
       "      <td>0.999220</td>\n",
       "    </tr>\n",
       "    <tr>\n",
       "      <th>349</th>\n",
       "      <td>0.992576</td>\n",
       "      <td>0.999809</td>\n",
       "      <td>0.999224</td>\n",
       "    </tr>\n",
       "    <tr>\n",
       "      <th>350</th>\n",
       "      <td>0.992705</td>\n",
       "      <td>0.999811</td>\n",
       "      <td>0.999228</td>\n",
       "    </tr>\n",
       "  </tbody>\n",
       "</table>\n",
       "<p>351 rows × 3 columns</p>\n",
       "</div>"
      ],
      "text/plain": [
       "     Gamma(2,5)  lognorm(0,1)  pareto(2,1)\n",
       "0      0.000000      0.000000     0.000000\n",
       "1      0.000197      0.010651     0.173554\n",
       "2      0.000779      0.053760     0.305556\n",
       "3      0.001730      0.114300     0.408284\n",
       "4      0.003034      0.179757     0.489796\n",
       "..          ...           ...          ...\n",
       "346    0.992176      0.999803     0.999211\n",
       "347    0.992312      0.999805     0.999215\n",
       "348    0.992445      0.999807     0.999220\n",
       "349    0.992576      0.999809     0.999224\n",
       "350    0.992705      0.999811     0.999228\n",
       "\n",
       "[351 rows x 3 columns]"
      ]
     },
     "execution_count": 26,
     "metadata": {},
     "output_type": "execute_result"
    }
   ],
   "source": [
    "ler_df"
   ]
  },
  {
   "cell_type": "code",
   "execution_count": 27,
   "metadata": {},
   "outputs": [
    {
     "data": {
      "image/png": "[encoded data removed]",
      "text/plain": [
       "<Figure size 1000x600 with 1 Axes>"
      ]
     },
     "metadata": {},
     "output_type": "display_data"
    }
   ],
   "source": [
    "# Plot: LER vs deductibles\n",
    "plt.figure(figsize=(10, 6))\n",
    "plt.subplot(111)\n",
    "plt.plot(deductibles, ler_df)\n",
    "plt.xlabel('Deductible')\n",
    "plt.ylabel('LER')\n",
    "plt.title('LERs')\n",
    "plt.legend(ler_df.columns)\n",
    "plt.grid()"
   ]
  },
  {
   "cell_type": "code",
   "execution_count": 10,
   "metadata": {},
   "outputs": [
    {
     "data": {
      "text/plain": [
       "10.0"
      ]
     },
     "execution_count": 10,
     "metadata": {},
     "output_type": "execute_result"
    }
   ],
   "source": [
    "gamma.mean(a=2,loc=0,scale=5)"
   ]
  },
  {
   "cell_type": "code",
   "execution_count": 83,
   "metadata": {},
   "outputs": [
    {
     "data": {
      "text/plain": [
       "10"
      ]
     },
     "execution_count": 83,
     "metadata": {},
     "output_type": "execute_result"
    }
   ],
   "source": [
    "alpha=2\n",
    "\n",
    "theta=5\n",
    "alpha * theta\n",
    "# alpha * theta * gammainc(alpha + 1, d / theta) + d * (1 - gammainc(alpha, d / theta))"
   ]
  },
  {
   "cell_type": "code",
   "execution_count": 8,
   "metadata": {},
   "outputs": [
    {
     "data": {
      "text/plain": [
       "1000.0"
      ]
     },
     "execution_count": 8,
     "metadata": {},
     "output_type": "execute_result"
    }
   ],
   "source": [
    "norm.mean(1000,1)"
   ]
  },
  {
   "cell_type": "code",
   "execution_count": null,
   "metadata": {},
   "outputs": [],
   "source": []
  }
 ],
 "metadata": {
  "kernelspec": {
   "display_name": "env_py_310",
   "language": "python",
   "name": "python3"
  },
  "language_info": {
   "codemirror_mode": {
    "name": "ipython",
    "version": 3
   },
   "file_extension": ".py",
   "mimetype": "text/x-python",
   "name": "python",
   "nbconvert_exporter": "python",
   "pygments_lexer": "ipython3",
   "version": "3.10.13"
  }
 },
 "nbformat": 4,
 "nbformat_minor": 2
}
